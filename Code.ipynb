{
 "cells": [
  {
   "cell_type": "code",
   "execution_count": 24,
   "metadata": {},
   "outputs": [],
   "source": [
    "import os\n",
    "import requests\n",
    "import zipfile\n",
    "import shutil\n",
    "\n",
    "import pandas as pd\n",
    "import matplotlib.pyplot as plt\n",
    "\n",
    "from sklearn.preprocessing import MinMaxScaler\n",
    "from sklearn.neighbors import NearestNeighbors\n",
    "\n",
    "from sklearn.decomposition import PCA\n",
    "import numpy as np"
   ]
  },
  {
   "cell_type": "code",
   "execution_count": 2,
   "metadata": {},
   "outputs": [],
   "source": [
    "years= [i for i in range(1975, 2021) if i%5==0]\n",
    "for i in years:\n",
    "    url = f\"https://static.nhtsa.gov/nhtsa/downloads/FARS/{i}/National/FARS{i}NationalCSV.zip\"\n",
    "    with open(f'{i}.zip', 'wb') as f:\n",
    "        f.write(requests.get(url).content)\n",
    "    with zipfile.ZipFile(f'{i}.zip', 'r') as zip_:\n",
    "        zip_.extractall(str(i))\n",
    "    os.mkdir(\"accident_all_years\")\n",
    "    source = f\"{i}/accident.csv\"\n",
    "    dest = f\"accident_all_years/{i}_accident.csv\"\n",
    "    shutil.copy(source, dest)"
   ]
  },
  {
   "cell_type": "code",
   "execution_count": 26,
   "metadata": {},
   "outputs": [
    {
     "name": "stdout",
     "output_type": "stream",
     "text": [
      "Total accidents from 1975 to 2020: 376096\n",
      "Total people in accidents: 955696\n",
      "Total persons died in accidents: 418619\n",
      "Proportion of accidents in overnight: 32.81 %\n",
      "Proportion of accidents in snowy: 1.63 %\n"
     ]
    },
    {
     "data": {
      "image/png": "[encoded data removed]",
      "text/plain": [
       "<Figure size 432x288 with 1 Axes>"
      ]
     },
     "metadata": {
      "needs_background": "light"
     },
     "output_type": "display_data"
    }
   ],
   "source": [
    "global_df= pd.DataFrame()\n",
    "deaths= []\n",
    "mean_rates= []\n",
    "for i in years:\n",
    "    df = pd.read_csv(f\"accident_all_years/{i}_accident.csv\", encoding = 'ISO-8859-1')\n",
    "    global_df= pd.concat([global_df, df])\n",
    "    global_df.reset_index(drop= True, inplace= True)\n",
    "    fatals= df.FATALS.sum()\n",
    "    deaths.append(fatals)\n",
    "    top_mr = df.groupby(\"STATE\").FATALS.agg('sum').sort_values().head().mean()\n",
    "    bottom_mr = df.groupby(\"STATE\").FATALS.agg('sum').sort_values().tail().mean()\n",
    "    mean_rates.append((top_mr + bottom_mr)/5)\n",
    "    \n",
    "accidents_overnight= 0  \n",
    "for overnight_hr in [21, 22, 23, 24, 0, 1, 2, 3]:\n",
    "    accidents= global_df[global_df.HOUR==overnight_hr]\n",
    "    accidents_overnight += accidents.shape[0]\n",
    "    \n",
    "accidents_snowy = global_df[global_df.WEATHER==4]\n",
    "\n",
    "print(\"Total accidents from 1975 to 2020:\", global_df.shape[0])\n",
    "print(f\"Total people in accidents: {global_df.PERSONS.sum()}\")\n",
    "print(f\"Total persons died in accidents: {global_df.FATALS.sum()}\")\n",
    "print(f\"Proportion of accidents in overnight: {round((accidents_overnight/global_df.shape[0])*100, 2)} %\")\n",
    "print(f\"Proportion of accidents in snowy: {round((accidents_snowy.shape[0]/global_df.shape[0])*100, 2)} %\")\n",
    "\n",
    "plt.plot(years, deaths, color='red')\n",
    "plt.show()"
   ]
  },
  {
   "cell_type": "markdown",
   "metadata": {},
   "source": [
    "*From the above graph, we can say that the fatality rate is decreased over time*"
   ]
  },
  {
   "cell_type": "code",
   "execution_count": 10,
   "metadata": {},
   "outputs": [
    {
     "name": "stdout",
     "output_type": "stream",
     "text": [
      "Mean rate of fatal accidents: 1.13\n",
      "Top 5: [17, 42, 36, 48, 6]\n",
      "Bottom 5: [11, 44, 2, 10, 50]\n"
     ]
    }
   ],
   "source": [
    "print(\"Mean rate of fatal accidents:\", round(global_df[global_df.DRUNK_DR!=0].FATALS.mean(), 2))\n",
    "tdf= pd.read_csv(f\"accident_all_years/1975_accident.csv\", encoding = 'ISO-8859-1')\n",
    "tdf= tdf.groupby(\"STATE\").FATALS.agg('sum').sort_values()\n",
    "print(\"Top 5:\", list(tdf.tail().index))\n",
    "print(\"Bottom 5:\", list(tdf.head().index))"
   ]
  },
  {
   "cell_type": "code",
   "execution_count": 12,
   "metadata": {},
   "outputs": [
    {
     "name": "stdout",
     "output_type": "stream",
     "text": [
      "Top 5: [42, 36, 12, 48, 6]\n",
      "Bottom 5: [11, 44, 50, 2, 38]\n"
     ]
    }
   ],
   "source": [
    "tdf= pd.read_csv(f\"accident_all_years/1990_accident.csv\", encoding= 'ISO-8859-1')\n",
    "tdf= tdf.groupby(\"STATE\").FATALS.agg('sum').sort_values()\n",
    "print(\"Top 5:\", list(tdf.tail().index))\n",
    "print(\"Bottom 5:\", list(tdf.head().index))"
   ]
  },
  {
   "cell_type": "code",
   "execution_count": 13,
   "metadata": {},
   "outputs": [
    {
     "name": "stdout",
     "output_type": "stream",
     "text": [
      "Average rate in 2020: 1.09\n"
     ]
    }
   ],
   "source": [
    "tdf= pd.read_csv(f\"accident_all_years/2020_accident.csv\", encoding= 'ISO-8859-1')\n",
    "print(\"Average rate in 2020:\", round(tdf.FATALS.mean(), 2))"
   ]
  },
  {
   "cell_type": "code",
   "execution_count": 27,
   "metadata": {},
   "outputs": [
    {
     "data": {
      "image/png": "[encoded data removed]",
      "text/plain": [
       "<Figure size 432x288 with 1 Axes>"
      ]
     },
     "metadata": {
      "needs_background": "light"
     },
     "output_type": "display_data"
    }
   ],
   "source": [
    "plt.plot(years, mean_rates, color='r')\n",
    "plt.show()"
   ]
  },
  {
   "cell_type": "markdown",
   "metadata": {},
   "source": [
    "*Here, we can see that with the increase in the year, the rate is getting decreased. But in 2020, it has increased again*"
   ]
  },
  {
   "cell_type": "code",
   "execution_count": 17,
   "metadata": {},
   "outputs": [],
   "source": [
    "tdf= global_df[[\"STATE\", 'MONTH', 'DAY', 'YEAR', 'HOUR', 'PERSONS', 'MAN_COLL',\n",
    "                'LGT_COND', 'WEATHER', 'SCH_BUS', 'FATALS', 'DAY_WEEK', 'DRUNK_DR']].sample(n=5000)\n",
    "tdf.dropna(inplace=True)\n",
    "tdf = pd.DataFrame(MinMaxScaler().fit_transform(tdf), columns= tdf.columns)"
   ]
  },
  {
   "cell_type": "code",
   "execution_count": 18,
   "metadata": {},
   "outputs": [
    {
     "data": {
      "text/html": [
       "<div>\n",
       "<style scoped>\n",
       "    .dataframe tbody tr th:only-of-type {\n",
       "        vertical-align: middle;\n",
       "    }\n",
       "\n",
       "    .dataframe tbody tr th {\n",
       "        vertical-align: top;\n",
       "    }\n",
       "\n",
       "    .dataframe thead th {\n",
       "        text-align: right;\n",
       "    }\n",
       "</style>\n",
       "<table border=\"1\" class=\"dataframe\">\n",
       "  <thead>\n",
       "    <tr style=\"text-align: right;\">\n",
       "      <th></th>\n",
       "      <th>STATE</th>\n",
       "      <th>MONTH</th>\n",
       "      <th>DAY</th>\n",
       "      <th>YEAR</th>\n",
       "      <th>HOUR</th>\n",
       "      <th>PERSONS</th>\n",
       "      <th>MAN_COLL</th>\n",
       "      <th>LGT_COND</th>\n",
       "      <th>WEATHER</th>\n",
       "      <th>SCH_BUS</th>\n",
       "      <th>FATALS</th>\n",
       "      <th>DAY_WEEK</th>\n",
       "      <th>DRUNK_DR</th>\n",
       "    </tr>\n",
       "  </thead>\n",
       "  <tbody>\n",
       "    <tr>\n",
       "      <th>0</th>\n",
       "      <td>0.327273</td>\n",
       "      <td>0.909091</td>\n",
       "      <td>0.600000</td>\n",
       "      <td>0.994845</td>\n",
       "      <td>0.191919</td>\n",
       "      <td>0.011905</td>\n",
       "      <td>0.000000</td>\n",
       "      <td>0.125</td>\n",
       "      <td>0.000000</td>\n",
       "      <td>0.0</td>\n",
       "      <td>0.0</td>\n",
       "      <td>0.833333</td>\n",
       "      <td>0.2</td>\n",
       "    </tr>\n",
       "    <tr>\n",
       "      <th>1</th>\n",
       "      <td>0.218182</td>\n",
       "      <td>0.909091</td>\n",
       "      <td>0.400000</td>\n",
       "      <td>0.007732</td>\n",
       "      <td>0.151515</td>\n",
       "      <td>0.023810</td>\n",
       "      <td>0.040404</td>\n",
       "      <td>0.000</td>\n",
       "      <td>0.000000</td>\n",
       "      <td>0.0</td>\n",
       "      <td>0.0</td>\n",
       "      <td>0.166667</td>\n",
       "      <td>0.0</td>\n",
       "    </tr>\n",
       "    <tr>\n",
       "      <th>2</th>\n",
       "      <td>0.909091</td>\n",
       "      <td>0.909091</td>\n",
       "      <td>0.366667</td>\n",
       "      <td>0.997423</td>\n",
       "      <td>0.060606</td>\n",
       "      <td>0.011905</td>\n",
       "      <td>0.000000</td>\n",
       "      <td>0.375</td>\n",
       "      <td>0.091837</td>\n",
       "      <td>0.0</td>\n",
       "      <td>0.0</td>\n",
       "      <td>0.666667</td>\n",
       "      <td>0.0</td>\n",
       "    </tr>\n",
       "    <tr>\n",
       "      <th>3</th>\n",
       "      <td>0.090909</td>\n",
       "      <td>0.454545</td>\n",
       "      <td>0.433333</td>\n",
       "      <td>0.989691</td>\n",
       "      <td>0.202020</td>\n",
       "      <td>0.023810</td>\n",
       "      <td>0.000000</td>\n",
       "      <td>0.250</td>\n",
       "      <td>0.000000</td>\n",
       "      <td>0.0</td>\n",
       "      <td>0.0</td>\n",
       "      <td>0.500000</td>\n",
       "      <td>0.2</td>\n",
       "    </tr>\n",
       "    <tr>\n",
       "      <th>4</th>\n",
       "      <td>0.854545</td>\n",
       "      <td>0.363636</td>\n",
       "      <td>0.033333</td>\n",
       "      <td>0.992268</td>\n",
       "      <td>0.131313</td>\n",
       "      <td>0.071429</td>\n",
       "      <td>0.050505</td>\n",
       "      <td>0.000</td>\n",
       "      <td>0.000000</td>\n",
       "      <td>0.0</td>\n",
       "      <td>0.0</td>\n",
       "      <td>0.166667</td>\n",
       "      <td>0.0</td>\n",
       "    </tr>\n",
       "  </tbody>\n",
       "</table>\n",
       "</div>"
      ],
      "text/plain": [
       "      STATE     MONTH       DAY      YEAR      HOUR   PERSONS  MAN_COLL  \\\n",
       "0  0.327273  0.909091  0.600000  0.994845  0.191919  0.011905  0.000000   \n",
       "1  0.218182  0.909091  0.400000  0.007732  0.151515  0.023810  0.040404   \n",
       "2  0.909091  0.909091  0.366667  0.997423  0.060606  0.011905  0.000000   \n",
       "3  0.090909  0.454545  0.433333  0.989691  0.202020  0.023810  0.000000   \n",
       "4  0.854545  0.363636  0.033333  0.992268  0.131313  0.071429  0.050505   \n",
       "\n",
       "   LGT_COND   WEATHER  SCH_BUS  FATALS  DAY_WEEK  DRUNK_DR  \n",
       "0     0.125  0.000000      0.0     0.0  0.833333       0.2  \n",
       "1     0.000  0.000000      0.0     0.0  0.166667       0.0  \n",
       "2     0.375  0.091837      0.0     0.0  0.666667       0.0  \n",
       "3     0.250  0.000000      0.0     0.0  0.500000       0.2  \n",
       "4     0.000  0.000000      0.0     0.0  0.166667       0.0  "
      ]
     },
     "execution_count": 18,
     "metadata": {},
     "output_type": "execute_result"
    }
   ],
   "source": [
    "tdf.head()"
   ]
  },
  {
   "cell_type": "code",
   "execution_count": 20,
   "metadata": {},
   "outputs": [
    {
     "name": "stdout",
     "output_type": "stream",
     "text": [
      "[[0.         0.1526706  0.16796568 ... 0.28583488 0.28748775 0.29150555]\n",
      " [0.         0.10341872 0.13253142 ... 0.26251973 0.26728501 0.27654455]\n",
      " [0.         0.28337377 0.32834625 ... 0.38697079 0.38900122 0.39212898]\n",
      " ...\n",
      " [0.         0.14175269 0.19205928 ... 0.28965619 0.29444045 0.29551589]\n",
      " [0.         0.15858744 0.15906422 ... 0.23858714 0.23954334 0.24080301]\n",
      " [0.         0.21679541 0.21897689 ... 0.35786906 0.36008502 0.36013025]]\n"
     ]
    }
   ],
   "source": [
    "knn= NearestNeighbors(n_neighbors=20)\n",
    "knn.fit(tdf)\n",
    "distances, indices= knn.kneighbors(tdf)\n",
    "print(distances)"
   ]
  },
  {
   "cell_type": "code",
   "execution_count": 29,
   "metadata": {},
   "outputs": [
    {
     "name": "stdout",
     "output_type": "stream",
     "text": [
      "Variance: 35.446740777265916\n"
     ]
    },
    {
     "data": {
      "image/png": "[encoded data removed]",
      "text/plain": [
       "<Figure size 432x288 with 1 Axes>"
      ]
     },
     "metadata": {
      "needs_background": "light"
     },
     "output_type": "display_data"
    }
   ],
   "source": [
    "pca= PCA(n_components= 0.90)\n",
    "pca.fit_transform(tdf)\n",
    "plt.plot(np.cumsum(pca.explained_variance_ratio_*100), color='r')\n",
    "print(\"Variance:\", np.cumsum(pca.explained_variance_ratio_*100)[0])"
   ]
  }
 ],
 "metadata": {
  "kernelspec": {
   "display_name": "Python 3",
   "language": "python",
   "name": "python3"
  },
  "language_info": {
   "codemirror_mode": {
    "name": "ipython",
    "version": 3
   },
   "file_extension": ".py",
   "mimetype": "text/x-python",
   "name": "python",
   "nbconvert_exporter": "python",
   "pygments_lexer": "ipython3",
   "version": "3.7.6"
  }
 },
 "nbformat": 4,
 "nbformat_minor": 4
}
